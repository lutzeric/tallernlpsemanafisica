{
  "cells": [
    {
      "cell_type": "markdown",
      "source": [
        "En este trabajo, extraemos cuentos de cuatro autores (Arredondo, Borges, Cortázar y Lispector) de una página web, Ciudad Seva (https://ciudadseva.com/biblioteca/indice-autor-cuentos/). Para cada cuento, generamos un vector utilizando el modelo fasttext y con él medimos la distancia semántica a cuentos del propio autor y a los de otros autores. Luego comparamos ambas medidas. Además, hacemos un análisis de los tópicos de los cuentos para cada autor."
      ],
      "metadata": {
        "id": "frZPu_MhaQV1"
      }
    },
    {
      "cell_type": "markdown",
      "metadata": {
        "id": "caL01aOtgCcx"
      },
      "source": [
        "0) Instalar bs4 e importar las bibliotecas"
      ]
    },
    {
      "cell_type": "code",
      "execution_count": null,
      "metadata": {
        "id": "UJvUCPOgRi2e",
        "colab": {
          "base_uri": "https://localhost:8080/"
        },
        "outputId": "e81925bf-d89f-494c-b860-ea2f311408d5"
      },
      "outputs": [
        {
          "output_type": "stream",
          "name": "stdout",
          "text": [
            "Requirement already satisfied: beautifulsoup4 in /usr/local/lib/python3.11/dist-packages (4.13.4)\n",
            "Requirement already satisfied: soupsieve>1.2 in /usr/local/lib/python3.11/dist-packages (from beautifulsoup4) (2.7)\n",
            "Requirement already satisfied: typing-extensions>=4.0.0 in /usr/local/lib/python3.11/dist-packages (from beautifulsoup4) (4.14.0)\n",
            "Collecting fasttext\n",
            "  Downloading fasttext-0.9.3.tar.gz (73 kB)\n",
            "\u001b[2K     \u001b[90m━━━━━━━━━━━━━━━━━━━━━━━━━━━━━━━━━━━━━━━━\u001b[0m \u001b[32m73.4/73.4 kB\u001b[0m \u001b[31m3.2 MB/s\u001b[0m eta \u001b[36m0:00:00\u001b[0m\n",
            "\u001b[?25h  Installing build dependencies ... \u001b[?25l\u001b[?25hdone\n",
            "  Getting requirements to build wheel ... \u001b[?25l\u001b[?25hdone\n",
            "  Preparing metadata (pyproject.toml) ... \u001b[?25l\u001b[?25hdone\n",
            "Collecting pybind11>=2.2 (from fasttext)\n",
            "  Using cached pybind11-2.13.6-py3-none-any.whl.metadata (9.5 kB)\n",
            "Requirement already satisfied: setuptools>=0.7.0 in /usr/local/lib/python3.11/dist-packages (from fasttext) (75.2.0)\n",
            "Requirement already satisfied: numpy in /usr/local/lib/python3.11/dist-packages (from fasttext) (2.0.2)\n",
            "Using cached pybind11-2.13.6-py3-none-any.whl (243 kB)\n",
            "Building wheels for collected packages: fasttext\n",
            "  Building wheel for fasttext (pyproject.toml) ... \u001b[?25l\u001b[?25hdone\n",
            "  Created wheel for fasttext: filename=fasttext-0.9.3-cp311-cp311-linux_x86_64.whl size=4313510 sha256=1081b0b0376657f02a40607056f07cbbcfa815389f1b5fcfed522d6b774bbed0\n",
            "  Stored in directory: /root/.cache/pip/wheels/65/4f/35/5057db0249224e9ab55a513fa6b79451473ceb7713017823c3\n",
            "Successfully built fasttext\n",
            "Installing collected packages: pybind11, fasttext\n",
            "Successfully installed fasttext-0.9.3 pybind11-2.13.6\n"
          ]
        }
      ],
      "source": [
        "!pip install beautifulsoup4 #ejecutar esto una sola vez\n",
        "\n",
        "import requests\n",
        "from bs4 import BeautifulSoup\n",
        "import time\n",
        "\n",
        "!pip install fasttext\n",
        "import fasttext"
      ]
    },
    {
      "cell_type": "markdown",
      "metadata": {
        "id": "p2AK8XmCTbOT"
      },
      "source": [
        "1) Montar drive. Cambiar los paths de la carpeta y del modelo según cómo los tengas en tu drive"
      ]
    },
    {
      "cell_type": "code",
      "execution_count": null,
      "metadata": {
        "id": "R_-sUMd9SM9B"
      },
      "outputs": [],
      "source": [
        "from google.colab import drive\n",
        "drive.mount('/content/drive')\n",
        "\n",
        "#paths\n",
        "# ft = fasttext.load_model('/content/drive/MyDrive/Colab/TallerNLP/cc.es.300.bin')  #Juli\n",
        "ft = fasttext.load_model('/content/drive/MyDrive/TallerNLP/cc.es.300.bin')  #Eric\n",
        "# carpeta = '/content/drive/MyDrive/Colab/TallerNLP/cuentos_para_analizar/' #Juli\n",
        "carpeta = '/content/drive/MyDrive/TallerNLP/cuentos_para_analizar' #Eric"
      ]
    },
    {
      "cell_type": "markdown",
      "metadata": {
        "id": "lIpAuk16Thle"
      },
      "source": [
        "2) Las siguientes funciones se encargan de buscar los archivos de los autores, leerlos y \"limpiar\" el nombre de los cuentos para poder ser usados en el item 3.\n",
        "\n",
        "Resultado: diccionario de la forma {autorx, lista de sus cuentos}.\n",
        "\n",
        "Importante: Requiere que dentro de la carpeta cuentos_para_analizar los unicos archivos .txt que existan sean el de los autores de la forma \"autorx.txt\" y dentro de cada archivo esten los nombres de los cuentos uno por cada linea."
      ]
    },
    {
      "cell_type": "code",
      "execution_count": null,
      "metadata": {
        "colab": {
          "base_uri": "https://localhost:8080/"
        },
        "id": "SM8KqKbwfZ4W",
        "outputId": "c8530e82-df61-4d1a-a2ca-6b51852017b0"
      },
      "outputs": [
        {
          "output_type": "stream",
          "name": "stdout",
          "text": [
            "{'cortazar': ['alguien-que-anda-por-ahi', 'almuerzos', 'amor-77', 'apocalipsis-de-solentiname', 'axolotl', 'bestiario', 'carta-a-una-senorita-en-paris', 'cartas-de-mama', 'casa-tomada', 'cefalea', 'circe', 'condor-y-cronopio', 'conducta-en-los-velorios', 'conservacion-de-los-recuerdos', 'continuidad-de-los-parques', 'cortisimo-metraje', 'datos-para-entender-a-los-perqueos', 'desayuno', 'deshoras', 'despues-del-almuerzo', 'educacion-de-principe', 'el-diario-a-diario', 'el-otro-cielo', 'el-perseguidor', 'en-un-vaso-de-agua-fria-o-preferentemente-tibia', 'epigrafe-de-rayuela', 'eugenesia', 'final-del-juego', 'grafitti', 'historia', 'historia-veridica', 'instrucciones-para-cantar', 'instrucciones-para-dar-cuerda-al-reloj', 'instrucciones-para-john-howell', 'instrucciones-para-llorar', 'instrucciones-para-subir-una-escalera', 'la-autopista-del-sur', 'la-caricia-mas-profunda', 'la-fe-en-el-tercer-mundo', 'la-isla-a-mediodia', 'la-noche-boca-arriba', 'la-puerta-condenada', 'la-salud-de-los-enfermos', 'la-senorita-cora', 'las-armas-secretas', 'las-babas-del-diablo', 'las-lineas-de-la-mano', 'las-menades', 'las-puertas-del-cielo', 'lazos-de-familia', 'lejana', 'liliana-llorando', 'los-buenos-servicios', 'los-testigos', 'los-venenos', 'lucas,-sus-largas-marchas', 'lucas,-sus-roces-sociales', 'lugar-llamado-kindberg', 'manuscrito-hallado-en-un-bolsillo', 'omnibus', 'pagina-asesina', 'patio-de-tarde', 'perdida-y-recuperacion-del-pelo', 'peripecias-del-agua', 'por-escrito-gallina-una', 'queremos-tanto-a-glenda', 'rayuela:-capitulo-68', 'relato-con-un-fondo-de-agua', 'reunion', 'secuencias', 'tema-para-un-tapiz', 'teoria-del-cangrejo', 'todos-los-fuegos-el-fuego', 'torito', 'una-flor-amarilla', 'usted-se-tendio-a-tu-lado', 'verano', 'vestir-una-sombra', 'vialidad'], 'borges': ['abel-y-cain', 'adrogue', 'alguien-sonara', 'andres-armoa', 'argumentum-ornithologicum', 'avelino-arredondo', 'biografia-de-tadeo-isidoro-cruz-1829-1874', 'borges-y-yo', 'del-rigor-en-la-ciencia', 'deutsches-requiem', 'dialogo-sobre-un-dialogo', 'el-acercamiento-a-almotasim', 'el-adivino', 'el-aleph', 'el-cautivo', 'el-congreso', 'el-disco', 'el-espejo-y-la-mascara', 'el-evangelio-segun-marcos', 'el-fin', 'el-hombre-en-el-umbral', 'el-informe-de-brodie', 'el-inmortal', 'el-jardin-de-los-senderos-que-se-bifurcan', 'el-libro-de-arena', 'el-milagro-secreto', 'el-muerto', 'el-otro', 'el-palacio', 'el-perro-de-doble-cuerpo', 'el-punal', 'el-soborno', 'el-sur', 'el-zahir', 'emma-zunz', 'episodio-del-enemigo', 'examen-de-la-obra-de-herbert-quain', 'funes-el-memorioso', 'historia-de-rosendo-juarez', 'historia-del-guerrero-y-de-la-cautiva', 'hombre-de-la-esquina-rosada', 'ictiocentauros', 'juan-murana', 'la-biblioteca-de-babel', 'la-biblioteca-total', 'la-casa-de-asterion', 'la-escritura-del-dios', 'la-espera', 'la-forma-de-la-espada', 'la-intrusa', 'la-larga-busca', 'la-loteria-en-babilonia', 'la-memoria-de-shakespeare', 'la-muerte-y-la-brujula', 'la-noche-de-los-dones', 'la-otra-muerte', 'la-peluda', 'la-rosa-de-paracelso', 'la-secta-de-los-treinta', 'la-secta-del-fenix', 'la-trama', 'las-ruinas-circulares', 'le-regret-dheraclite', 'los-dos-reyes-y-los-dos-laberintos', 'los-hronir-de-tlon', 'los-teologos', 'mutaciones', 'nota-para-un-cuento-fantastico', 'odin', 'parabola-de-cervantes-y-de-quijote', 'pierre-menard,-autor-del-quijote', 'tema-del-traidor-y-del-heroe', 'there-are-more-things', 'tigres-azules', 'tlon,-uqbar,-orbis-tertius', 'tres-versiones-de-judas', 'ulrica', 'un-problema', 'un-sueno', 'undr', 'utopia-de-un-hombre-que-esta-cansado'], 'lispector': ['amor', 'comienzos-de-una-fortuna', 'desvanecimiento', 'devaneo-y-embriaguez-de-una-muchacha', 'el-bufalo', 'el-crimen-del-profesor-de-matematicas', 'el-huevo-y-la-gallina', 'el-manifiesto-de-la-ciudad', 'el-muerto-en-el-mar-de-urca', 'el-primer-beso', 'el-triunfo', 'es-alli-a-donde-voy', 'felicidad-clandestina', 'feliz-cumpleanos', 'la-busqueda-de-la-dignidad', 'la-cena', 'la-imitacion-de-la-rosa', 'la-legion-extranjera', 'la-mujer-mas-pequena-del-mundo', 'la-partida-del-tren', 'la-relacion-de-la-cosa', 'las-aguas-del-mar', 'las-astucias-de-dona-frozina', 'lazos-de-familia', 'mejor-que-arder', 'misterio-en-sao-cristovao', 'monos', 'no-soltar-los-caballos', 'preciosidad', 'restos-del-carnaval', 'ruido-de-pasos', 'seco-estudio-de-caballos', 'silencio', 'tanta-mansedumbre', 'tempestad-de-almas', 'tentacion', 'un-caso-complicado', 'una-gallina', 'una-tarde-plena', 'viaje-a-petropolis', 'vida-al-natural'], 'arredondo': ['2-de-la-tarde', 'ano-nuevo', 'apunte-gotico', 'atrapada', 'cancion-de-cuna', 'de-amores', 'el-amigo', 'el-arbol', 'el-hombre-en-la-noche', 'el-membrillo', 'en-la-sombra', 'en-londres', 'estar-vivo', 'estio', 'flamingos', 'la-casa-de-los-espejos', 'la-cruz-escondida', 'la-extranjera', 'la-senal', 'la-sunamita', 'las-mariposas-nocturnas', 'las-muertes', 'las-palabras-silenciosas', 'lo-que-no-se-comprende', 'los-espejos', 'los-inocentes', 'mariana', 'olga', 'opus-123', 'orfandad', 'para-siempre', 'rio-subterraneo', 'sahara', 'sombra-entre-sombras', 'wanda']}\n"
          ]
        }
      ],
      "source": [
        "import os\n",
        "import glob\n",
        "\n",
        "def limpiar_texto(lista:list[str])->list[str]:\n",
        "    \"\"\"\n",
        "    Se encarga de limpiar los nombres de los cuentos para que sean aptos para vector_cuentos()\n",
        "\n",
        "    Entrada: lista_cuentos (list[str]), lista_cuentos = archivo.readlines() de los archivos con los cuentos de los autores\n",
        "\n",
        "    Salida: lista con los nombres de los cuentos validos para vector_cuentos\n",
        "    \"\"\"\n",
        "    char_a_reemplazar:dict[str,str] = {'ñ':'n','á':'a','é':'e','í':'i','ó':'o','ú':'u','\\n':'',' ':'-','ã':'a','\"':'','(':'',')':'','ä':'a','ë':'e','ï':'i','ö':'o','ü':'u',\"'\":\"\"}\n",
        "    res:list[str] = []\n",
        "    for elemento in lista:\n",
        "        aux:str = \"\"\n",
        "        for letra in elemento:\n",
        "            letra = letra.lower()\n",
        "            if letra not in char_a_reemplazar.keys():\n",
        "                aux += letra\n",
        "            else:\n",
        "                aux += char_a_reemplazar[letra]\n",
        "        if len(aux)>0:\n",
        "          res.append(aux.lower())\n",
        "    return res\n",
        "\n",
        "def obtener_autores(archivos_autores:list[str],carpeta:str)->list[str]:\n",
        "    \"\"\"\n",
        "    Dada la lista de los archivos existentes, extrae el nombre del autor.\n",
        "    Requiere que los unicos archivos dentro de la carpeta \"cuentos_para_analizar\" sean de la forma \"autor.txt\"\n",
        "    y contenga los nombres de los cuentos, cada cuento en una linea del archivo\n",
        "\n",
        "    Entrada: carpeta, donde estan los archivos (str).\n",
        "    archivos_autores, con los archivos encontrados dentro de la carpeta (lista de str)\n",
        "\n",
        "    Salida: lista con los nombres de los autores, extraidos de los archivos.\n",
        "    \"\"\"\n",
        "    #hice de tres formas distintas las tres me andan a mi\n",
        "    #esta es la primera forma\n",
        "    \"\"\"\n",
        "    res:list[str] = []\n",
        "    for dir_archivo in archivos_autores:\n",
        "        autor:str = dir_archivo[len(carpeta):-4] #esto es lo que genero problemas\n",
        "        res.append(autor) #para que no aparezca la barra al principio\n",
        "    return res\"\"\"\n",
        "    #esta es la segunda forma que probe\n",
        "    \"\"\"res:list[str] = []\n",
        "    for dir_archivo in archivos_autores:\n",
        "        autor:str = (dir_archivo.split(\"/\")[-1])[0:-4]\n",
        "        res.append(autor) #para que no aparezca la barra al principio\n",
        "    return res\"\"\"\n",
        "    #esto me lo hizo chatgpt\n",
        "    return [os.path.splitext(os.path.basename(archivo))[0] for archivo in archivos_autores if archivo.endswith(\".txt\")]\n",
        "\n",
        "def cargar_nombres_cuentos(carpeta:str):\n",
        "    \"\"\"\n",
        "    Dada una carpeta, busca los archivos de autores existentes guardando sus direcciones en una lista.\n",
        "    Crea un diccionario de la forma {autor:lista_cuentos},\n",
        "    obteniendo el nombre del autor usando obtener_autores y la lista_cuentos leyendo cada archivo y limpiando su texto con limpiar_cuentos\n",
        "\n",
        "    Requiere que dentro de la carpeta los unicos archivos .txt existentes sean de la forma \"autorx.txt\"\n",
        "    y su contenido sea linea por linea nombre de cuento, con cada linea con solo un cuento\n",
        "\n",
        "    Entrada: carpeta (str).\n",
        "\n",
        "    Salida: diccionario de la forma {autor:lista_cuentos_valida}, siendo lista_cuento_valida la lista con cuentos ya limpia para luego cada elemento ser utilizado en vector_cuento().\n",
        "    \"\"\"\n",
        "    dicc:dict[str,list[str]] = {}\n",
        "    archivos_txt:list[str] = glob.glob(os.path.join(carpeta, \"*.txt\")) #busca que archivos de texto hay en la carpeta\n",
        "    autores:list[str] = obtener_autores(archivos_txt,carpeta)\n",
        "    for i in range(0, len(archivos_txt)):\n",
        "    #for i in range(0, 2):\n",
        "        archivo = open(archivos_txt[i],\"r\", encoding=\"utf-8\")\n",
        "        dicc[autores[i]] = limpiar_texto(archivo.readlines())\n",
        "        archivo.close()\n",
        "    return dicc\n",
        "\n",
        "dicc = cargar_nombres_cuentos(carpeta)\n",
        "print(dicc)"
      ]
    },
    {
      "cell_type": "markdown",
      "metadata": {
        "id": "mQaxC9VjTpQ5"
      },
      "source": [
        "3) A partir de todas las funciones anteriores y la celda de más abajo queremos guardar un diccionario {autorx:list[embedding_del_cuento]} y otro {autorx:list[cuento]} en la carpeta compartida"
      ]
    },
    {
      "cell_type": "code",
      "execution_count": null,
      "metadata": {
        "id": "kb6Wo6ogOPjX",
        "colab": {
          "base_uri": "https://localhost:8080/"
        },
        "outputId": "3b77f262-3083-4db3-ab9b-257f76f860c9"
      },
      "outputs": [
        {
          "output_type": "stream",
          "name": "stdout",
          "text": [
            "Error en la conexión: 404\n",
            "❌ No se pudo obtener vector para 'el-adivino' de borges\n",
            "Error en la conexión: 404\n",
            "❌ No se pudo obtener vector para 'silencio' de lispector\n",
            "[('borges', 'el-adivino'), ('lispector', 'silencio')]\n"
          ]
        }
      ],
      "source": [
        "def limpiar_html(texto) -> str:\n",
        "    limpio = \"\\n\\n\".join(el.get_text(strip=True) for el in texto)\n",
        "    return limpio\n",
        "\n",
        "def vector_cuento(nombre_cuento,autor):\n",
        "    \"\"\"\n",
        "    Con el nombre del cuento, entra a Ciudad Seva, extrae y limpia el texto del cuento.\n",
        "    Luego pasa el texto a un vector y lo devuelve.\n",
        "\n",
        "    Entrada: nombre de un cuento (str).\n",
        "\n",
        "    Salida: embedding (vector) del cuento o None si hay una falla.\n",
        "    \"\"\"\n",
        "    time.sleep(2)\n",
        "    response = requests.get('https://ciudadseva.com/texto/' + nombre_cuento)\n",
        "    if response.status_code != 200:\n",
        "        print(f\"Error en la conexión: {response.status_code}\")\n",
        "        return None\n",
        "\n",
        "    soup = BeautifulSoup(response.text, \"html.parser\")\n",
        "\n",
        "    # Locate the <article> with class including both \"post-\" and \"texto\"\n",
        "    article = soup.find(\"article\", class_=lambda x: x and \"post-\" in x and \"texto\" in x)\n",
        "    if not article:\n",
        "        print(\"Error. No se encontró el artículo\")\n",
        "        return None\n",
        "\n",
        "    # Extract all relevant tags (e.g., paragraphs, headers, etc.)\n",
        "    texto_completo = article.find_all([\"p\", \"h1\", \"h2\", \"h3\", \"h4\", \"h5\", \"h6\", \"div\", \"blockquote\"])\n",
        "    # titulo = limpiar_html(texto_completo[0]).split('[')[0].strip()\n",
        "    # autor = limpiar_html(texto_completo[0]).split(']')[-1].split('\\n')[-1]\n",
        "    #cuento = limpiar_html(texto_completo[3:-2].replace('\\n',''))\n",
        "    #print(limpiar_html(texto_completo[0]).split(']')[-1].split('\\n')[-1])\n",
        "    if autor !=limpiar_texto(limpiar_html(texto_completo[0]).split(']')[-1].split('\\n')[-1].split(' '))[-1].lower():\n",
        "      if nombre_cuento[len(nombre_cuento)-len(autor): len(nombre_cuento)] != autor:\n",
        "        return vector_cuento(str(nombre_cuento+\"-\"+autor),autor)\n",
        "      \"\"\"else:\n",
        "        print(\"hola\",str(nombre_cuento[0:len(nombre_cuento)-len(autor)-1]+\"-2\"),autor)\n",
        "        return vector_cuento(str(nombre_cuento+\"-2\"),autor)\"\"\"\n",
        "\n",
        "    #cuento = texto_completo[3:-2]\n",
        "    cuento = limpiar_html(texto_completo[3:-2]).replace('\\n', ' ')\n",
        "    vector = ft[cuento]\n",
        "    return vector, cuento\n",
        "\n",
        "\"\"\"\n",
        "def cargar_diccionario_con_embedings(dicc):\n",
        "    res = {}\n",
        "    for autor in dicc.keys():\n",
        "        lista_embedings = []\n",
        "        for cuento in dicc[autor]:\n",
        "            lista_embedings.append(vector_cuento(cuento))\n",
        "        res[autor] = lista_embedings\n",
        "    return res\n",
        "\n",
        "\n",
        "res = cargar_diccionario_con_embedings(dicc)\"\"\"\n",
        "\n",
        "vectores_por_autor = {}\n",
        "cuentos_no_encontrados = []\n",
        "autor_cuentos = {a:[] for a in dicc.keys()}\n",
        "for autor, cuentos in dicc.items():\n",
        "    vectores = []\n",
        "    for cuento in cuentos:\n",
        "        try:\n",
        "            vector, texto = vector_cuento(cuento,autor)\n",
        "            vectores.append(vector)\n",
        "            autor_cuentos[autor].append(texto)\n",
        "        except:\n",
        "            print(f\"❌ No se pudo obtener vector para '{cuento}' de {autor}\")\n",
        "            cuentos_no_encontrados.append((autor,cuento))\n",
        "    vectores_por_autor[autor] = vectores\n",
        "\n",
        "import pickle\n",
        "\n",
        "#guardamos los diccionarios\n",
        "with open('/content/drive/MyDrive/TallerNLP/vectores_autores.pkl', 'wb') as f:\n",
        "    pickle.dump(vectores_por_autor, f)\n",
        "\n",
        "with open('/content/drive/MyDrive/TallerNLP/autor_cuentos.pkl', 'wb') as f:\n",
        "    pickle.dump(autor_cuentos, f)"
      ]
    },
    {
      "cell_type": "markdown",
      "metadata": {
        "id": "u1CpKqcTTvpZ"
      },
      "source": [
        "# Si ya tenemos el diccionario de vectores armado, lo cargamos y procedemos a hacer el análisis de distancias\n",
        "\n",
        "Lo primero que podemos hacer es ver si la distancia semántica dentro de los cuentos de un mismo autorx es más chica que la distancia semántica entre esos cuentos y los del resto de lxs autores. Por convención, a la primera vamos a llamarla distancia **intra** y a la segunda, **inter**. Si se cumple lo esperado, en promedio deberíamos tener una distancia semántica intra menor a la inter. Vamos a probar con distancia coseno y con distancia euclidiana."
      ]
    },
    {
      "cell_type": "code",
      "execution_count": null,
      "metadata": {
        "id": "7n8VX68bYr_e",
        "colab": {
          "base_uri": "https://localhost:8080/"
        },
        "outputId": "b71358fc-d1f8-4787-f73d-267ec2880001"
      },
      "outputs": [
        {
          "output_type": "stream",
          "name": "stdout",
          "text": [
            "Drive already mounted at /content/drive; to attempt to forcibly remount, call drive.mount(\"/content/drive\", force_remount=True).\n"
          ]
        }
      ],
      "source": [
        "from scipy.spatial.distance import pdist\n",
        "from scipy.spatial import distance\n",
        "import numpy as np\n",
        "import pickle\n",
        "from google.colab import drive\n",
        "drive.mount('/content/drive')\n",
        "\n",
        "ruta = '/content/drive/MyDrive/Colab/TallerNLP/vectores_autores.pkl' #ruta Juli:\n",
        "ruta = '/content/drive/MyDrive/TallerNLP/vectores_autores.pkl' #ruta Eric\n",
        "\n",
        "with open(ruta, 'rb') as f:\n",
        "    autores_por_vector = pickle.load(f)\n",
        "\n",
        "def distancia_intra(lista_vectores, distancia_coseno=True):\n",
        "    X = np.array(lista_vectores)\n",
        "    if distancia_coseno:\n",
        "        metric = 'cosine'\n",
        "    else:\n",
        "        metric = 'euclidean'\n",
        "    dists = pdist(X, metric=metric)\n",
        "\n",
        "    return np.mean(dists)\n",
        "\n",
        "def distancia_inter(diccionario_autores, autor, distancia_coseno=True):\n",
        "    vectores_propios = np.array(diccionario_autores[autor])  # Shape: (n_sampleses_propios, dim)\n",
        "    vectores_otros = np.array([x for xs in [diccionario_autores[a] for a in diccionario_autores.keys() if a != autor] for x in xs])\n",
        "    vectores_otros = vectores_otros.reshape(-1, vectores_propios.shape[1])  # Shape: (n_samples_otros, dim)\n",
        "\n",
        "    dist = 0\n",
        "    if distancia_coseno:\n",
        "        for v1 in vectores_propios:\n",
        "            for v2 in vectores_otros:\n",
        "                dist += distance.cosine(v1, v2)\n",
        "\n",
        "    else:\n",
        "        for v1 in vectores_propios:\n",
        "            for v2 in vectores_otros:\n",
        "                dist += np.linalg.norm(v1 - v2)\n",
        "\n",
        "    combinaciones = vectores_propios.shape[0] * vectores_otros.shape[0]\n",
        "    return dist/combinaciones\n",
        "\n",
        "distancias_autores = {a:{'intra':0, 'inter':0} for a in autores_por_vector.keys()}\n",
        "for autor in autores_por_vector.keys():\n",
        "    distancias_autores[autor]['intra'] = distancia_intra(autores_por_vector[autor], distancia_coseno=False)\n",
        "    distancias_autores[autor]['inter'] = distancia_inter(autores_por_vector, autor, distancia_coseno=False)\n"
      ]
    },
    {
      "cell_type": "code",
      "source": [
        "import pandas as pd\n",
        "import seaborn as sns\n",
        "import matplotlib.pyplot as plt\n",
        "\n",
        "df = pd.DataFrame.from_dict(distancias_autores).T\n",
        "df['autor'] = df.index\n",
        "df2 = df.melt(id_vars='autor', value_vars=['intra','inter'], var_name='distancia', value_name='valor')\n",
        "orden = ['intra', 'inter']\n",
        "ax = sns.barplot(data=df2, x='autor', y='valor', hue='distancia',\n",
        "    palette={'intra': 'navy', 'inter': 'deeppink'}, hue_order=orden)\n",
        "plt.show()"
      ],
      "metadata": {
        "colab": {
          "base_uri": "https://localhost:8080/",
          "height": 451
        },
        "id": "Qg__usaSUZlq",
        "outputId": "0ec1626e-e068-4ddd-9520-fad4ecf6d964"
      },
      "execution_count": null,
      "outputs": [
        {
          "output_type": "display_data",
          "data": {
            "text/plain": [
              "<Figure size 640x480 with 1 Axes>"
            ],
            "image/png": "[encoded data removed]"
          },
          "metadata": {}
        }
      ]
    },
    {
      "cell_type": "markdown",
      "metadata": {
        "id": "HBmnllGCtf5Y"
      },
      "source": [
        "# Análisis de tópicos\n",
        "\n",
        "Este es un análisis basado únicamente en los textos de los cuentos y no en sus vectores. Lo que vamos a hacer es extraer los tópicos o palabras más frecuentes en los textos de cada autorx. Para esto, primero se van a eliminar las *stop words*, que son palabras como \"el\", \"la\", \"de\", \"con\", etc. que no tienen ninguna importancia en este análisis.\n",
        "\n",
        "Para correr esto, necesitaríamos el diccionario {autorx: list[cuento]} previamente armado"
      ]
    },
    {
      "cell_type": "code",
      "execution_count": null,
      "metadata": {
        "colab": {
          "base_uri": "https://localhost:8080/"
        },
        "id": "uCMdRdKwtv1O",
        "outputId": "2914272b-daa7-4cf1-885d-4e1f1e800e28"
      },
      "outputs": [
        {
          "output_type": "stream",
          "name": "stderr",
          "text": [
            "[nltk_data] Downloading package stopwords to /root/nltk_data...\n",
            "[nltk_data]   Package stopwords is already up-to-date!\n"
          ]
        },
        {
          "output_type": "stream",
          "name": "stdout",
          "text": [
            "Tópicos más frecuentes en cortazar: [['si', 'vez', 'tan', 'dos', 'dijo', 'después', 'casi', 'ahora', 'bien', 'mamá']]\n",
            "Tópicos más frecuentes en borges: [['hombre', 'si', 'dos', 'dijo', 'vez', 'noche', 'hombres', 'tiempo', 'después', 'ahora']]\n",
            "Tópicos más frecuentes en lispector: [['si', 'entonces', 'vez', 'ser', 'ojos', 'solo', 'tan', 'huevo', 'dijo', 'mujer']]\n",
            "Tópicos más frecuentes en arredondo: [['si', 'ojos', 'casa', 'tan', 'vez', 'madre', 'ahora', 'ser', 'así', 'dijo']]\n"
          ]
        }
      ],
      "source": [
        "from sklearn.feature_extraction.text import TfidfVectorizer\n",
        "from sklearn.decomposition import TruncatedSVD\n",
        "import nltk\n",
        "from nltk.corpus import stopwords\n",
        "import re\n",
        "\n",
        "nltk.download('stopwords')\n",
        "spanish_stopwords = stopwords.words('spanish')\n",
        "\n",
        "def limpiar_texto(texto):\n",
        "    \"\"\"Lowercase, remove non-alphabetic, and tokenize.\"\"\"\n",
        "    texto = texto.lower()\n",
        "    texto = re.sub(r'[^a-záéíóúüñ\\s]', '', texto)\n",
        "    return texto\n",
        "\n",
        "def extraer_topicos(dic_autor_cuentos, n_components=5, n_words=10):\n",
        "    resultados = {}\n",
        "\n",
        "    for autor, historias in dic_autor_cuentos.items():\n",
        "        # Combina todos los cuentos\n",
        "        texto_autor = limpiar_texto(\" \".join(historias))\n",
        "        partes = texto_autor.split('.')\n",
        "        docs = [p.strip() for p in partes if len(p.strip().split()) > 5]\n",
        "\n",
        "        if len(docs) < n_components:\n",
        "            docs = [texto_autor]\n",
        "\n",
        "        vectorizer = TfidfVectorizer(stop_words=spanish_stopwords, max_features=5000)\n",
        "        X = vectorizer.fit_transform(docs)\n",
        "        vocab = vectorizer.get_feature_names_out()\n",
        "\n",
        "        svd = TruncatedSVD(n_components=n_components, random_state=42)\n",
        "        svd.fit(X)\n",
        "\n",
        "        # Palabras más frecuentes por tópico\n",
        "        topics = []\n",
        "        for comp in svd.components_:\n",
        "            top_indices = comp.argsort()[::-1][:n_words]\n",
        "            top_words = [vocab[i] for i in top_indices]\n",
        "            topics.append(top_words)\n",
        "\n",
        "        resultados[autor] = topics\n",
        "\n",
        "    return resultados\n",
        "\n",
        "ruta = '/content/drive/MyDrive/Colab/TallerNLP/autor_cuentos.pkl' #ruta Juli:\n",
        "ruta = '/content/drive/MyDrive/TallerNLP/autor_cuentos.pkl' #ruta Eric\n",
        "\n",
        "with open(ruta, 'rb') as f:\n",
        "    autor_cuentos = pickle.load(f)\n",
        "topicos_autores = extraer_topicos(autor_cuentos)\n",
        "for autor in autor_cuentos:\n",
        "    print(f'Tópicos más frecuentes en {autor}: {topicos_autores[autor]}')"
      ]
    }
  ],
  "metadata": {
    "colab": {
      "provenance": []
    },
    "kernelspec": {
      "display_name": "Python 3",
      "name": "python3"
    },
    "language_info": {
      "name": "python"
    }
  },
  "nbformat": 4,
  "nbformat_minor": 0
}